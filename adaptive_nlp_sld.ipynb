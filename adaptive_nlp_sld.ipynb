{
 "cells": [
  {
   "cell_type": "markdown",
   "id": "06498f32",
   "metadata": {},
   "source": [
    "# Adaptive NLP demo for SLD students"
   ]
  },
  {
   "cell_type": "code",
   "execution_count": null,
   "id": "22cf9eff",
   "metadata": {},
   "outputs": [],
   "source": [
    "import spacy, pandas as pd\n",
    "df = pd.read_csv('lyrics_tiny.csv')\n",
    "nlp = spacy.load(\"en_core_web_sm\")\n",
    "df['POS'] = df['lyric'].apply(lambda x: [t.pos_ for t in nlp(x)])\n",
    "df"
   ]
  }
 ],
 "metadata": {},
 "nbformat": 4,
 "nbformat_minor": 5
}
